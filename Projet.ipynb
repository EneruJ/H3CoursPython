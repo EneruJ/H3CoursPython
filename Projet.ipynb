{
 "cells": [
  {
   "cell_type": "markdown",
   "id": "631faebc",
   "metadata": {},
   "source": [
    "#  Analyse de données : Tiers stratégiques sur Pokémon   \n",
    "\n",
    "L'objectif de cette analyse est de déterminer les différentes caractéristiques qui définissent les tiers stratégiques sur le jeu Pokémon.\n",
    "Pour cela, nous allons analyser les caractéristiques principales des Pokémon présents dans chacun des tiers et définir ce qui fait qu'un Pokémon sera dans un tier en particulier."
   ]
  },
  {
   "cell_type": "code",
   "execution_count": 2,
   "id": "86a6b083",
   "metadata": {},
   "outputs": [],
   "source": [
    "import pandas as pd\n",
    "import numpy as np\n",
    "import seaborn as sns\n",
    "import matplotlib.pyplot as plt"
   ]
  },
  {
   "cell_type": "code",
   "execution_count": 3,
   "id": "0d5fbc46",
   "metadata": {},
   "outputs": [],
   "source": [
    "df = pd.read_csv('Données//pokemon-data.csv', delimiter=';')\n",
    "mdf = pd.read_csv('Données//move-data.csv', delimiter=',')\n",
    "pdf = pd.read_csv('Données//pokemon.csv', delimiter=',')"
   ]
  },
  {
   "cell_type": "markdown",
   "id": "577c1e45",
   "metadata": {},
   "source": [
    "Tout d'abord, après avoir importé les librairies essentiels ainsi que les dataset utiles au projet, quelques éléments du dataset principal **df** ont été modifiés afin de faciliter leur analyse. Pour cette analyse, seuls les tiers principaux en stratégie seront utilisés, on modifie donc le dataset afin de garder les 6 tiers principaux. On crée ensuite une nouvelle colonne *\"bst\"* qui contiendra le total des statistiques de base des pokémons, puis une colonne *\"tier_rank\"* qui sera une adaptation de l'ordre des tiers en chiffre afin de générer plus facilement certains graphiques."
   ]
  },
  {
   "cell_type": "code",
   "execution_count": 4,
   "id": "976ab181",
   "metadata": {
    "code_folding": [
     2
    ],
    "scrolled": true
   },
   "outputs": [],
   "source": [
    "df.columns = ['name', 'types', 'abilities', 'tier', 'hp', 'atk', 'def', 'spa', 'spd', 'spe', 'next_evos','moves']\n",
    "df.loc[df.tier == 'OUBL','tier'] = 'Uber'\n",
    "df.loc[df.tier == 'UUBL','tier'] = 'OU'\n",
    "df.loc[df.tier == 'RUBL','tier'] = 'UU'\n",
    "df.loc[df.tier == 'NUBL','tier'] = 'RU'\n",
    "df.loc[df.tier == 'PUBL','tier'] = 'NU'\n",
    "df = df[df['tier'].isin(['Uber', 'OU', 'UU', 'NU', 'RU', 'PU'])]\n",
    "df['bst'] = df['hp'] + df['atk'] + df['def'] + df['spa'] + df['spd'] + df['spe']\n",
    "df['moveset'] = [len(a) for a in df.moves]\n",
    "tiers = ['Uber', 'OU', 'UU', 'RU', 'NU', 'PU']                                                                      \n",
    "df.loc[df['tier'] == \"Uber\", \"tier_rank\"] = 0\n",
    "df.loc[df['tier'] == \"OU\", \"tier_rank\"] = 1\n",
    "df.loc[df['tier'] == \"UU\", \"tier_rank\"] = 2\n",
    "df.loc[df['tier'] == \"RU\", \"tier_rank\"] = 3\n",
    "df.loc[df['tier'] == \"NU\", \"tier_rank\"] = 4\n",
    "df.loc[df['tier'] == \"PU\", \"tier_rank\"] = 5\n",
    "df = df.astype({'tier_rank': int})\n",
    "df['moves'] = df.apply(lambda x: set(x.moves), axis=1)"
   ]
  },
  {
   "cell_type": "markdown",
   "id": "1f001a91",
   "metadata": {},
   "source": [
    "Suite à cela, on fusionne les 2 dataset principaux, en se basant sur le nom anglais des pokémons. L'ajout du dataset **pdf** permettra d'avoir plus d'élements à analyser afin de répondre à notre problématique."
   ]
  },
  {
   "cell_type": "code",
   "execution_count": 5,
   "id": "c43ef6ed",
   "metadata": {},
   "outputs": [
    {
     "data": {
      "text/html": [
       "<div>\n",
       "<style scoped>\n",
       "    .dataframe tbody tr th:only-of-type {\n",
       "        vertical-align: middle;\n",
       "    }\n",
       "\n",
       "    .dataframe tbody tr th {\n",
       "        vertical-align: top;\n",
       "    }\n",
       "\n",
       "    .dataframe thead th {\n",
       "        text-align: right;\n",
       "    }\n",
       "</style>\n",
       "<table border=\"1\" class=\"dataframe\">\n",
       "  <thead>\n",
       "    <tr style=\"text-align: right;\">\n",
       "      <th></th>\n",
       "      <th>name</th>\n",
       "      <th>types</th>\n",
       "      <th>abilities_x</th>\n",
       "      <th>tier</th>\n",
       "      <th>hp_x</th>\n",
       "      <th>atk</th>\n",
       "      <th>def</th>\n",
       "      <th>spa</th>\n",
       "      <th>spd</th>\n",
       "      <th>spe</th>\n",
       "      <th>...</th>\n",
       "      <th>percentage_male</th>\n",
       "      <th>pokedex_number</th>\n",
       "      <th>sp_attack</th>\n",
       "      <th>sp_defense</th>\n",
       "      <th>speed</th>\n",
       "      <th>type1</th>\n",
       "      <th>type2</th>\n",
       "      <th>weight_kg</th>\n",
       "      <th>generation</th>\n",
       "      <th>is_legendary</th>\n",
       "    </tr>\n",
       "  </thead>\n",
       "  <tbody>\n",
       "    <tr>\n",
       "      <th>0</th>\n",
       "      <td>Abomasnow</td>\n",
       "      <td>['Grass', 'Ice']</td>\n",
       "      <td>['Snow Warning', 'Soundproof']</td>\n",
       "      <td>PU</td>\n",
       "      <td>90</td>\n",
       "      <td>92</td>\n",
       "      <td>75</td>\n",
       "      <td>92</td>\n",
       "      <td>85</td>\n",
       "      <td>60</td>\n",
       "      <td>...</td>\n",
       "      <td>50.0</td>\n",
       "      <td>460</td>\n",
       "      <td>132</td>\n",
       "      <td>105</td>\n",
       "      <td>30</td>\n",
       "      <td>grass</td>\n",
       "      <td>ice</td>\n",
       "      <td>135.5</td>\n",
       "      <td>4</td>\n",
       "      <td>0</td>\n",
       "    </tr>\n",
       "    <tr>\n",
       "      <th>1</th>\n",
       "      <td>Absol</td>\n",
       "      <td>['Dark']</td>\n",
       "      <td>['Justified', 'Pressure', 'Super Luck']</td>\n",
       "      <td>PU</td>\n",
       "      <td>65</td>\n",
       "      <td>130</td>\n",
       "      <td>60</td>\n",
       "      <td>75</td>\n",
       "      <td>60</td>\n",
       "      <td>75</td>\n",
       "      <td>...</td>\n",
       "      <td>50.0</td>\n",
       "      <td>359</td>\n",
       "      <td>115</td>\n",
       "      <td>60</td>\n",
       "      <td>115</td>\n",
       "      <td>dark</td>\n",
       "      <td>NaN</td>\n",
       "      <td>47.0</td>\n",
       "      <td>3</td>\n",
       "      <td>0</td>\n",
       "    </tr>\n",
       "    <tr>\n",
       "      <th>2</th>\n",
       "      <td>Accelgor</td>\n",
       "      <td>['Bug']</td>\n",
       "      <td>['Hydration', 'Sticky Hold', 'Unburden']</td>\n",
       "      <td>NU</td>\n",
       "      <td>80</td>\n",
       "      <td>70</td>\n",
       "      <td>40</td>\n",
       "      <td>100</td>\n",
       "      <td>60</td>\n",
       "      <td>145</td>\n",
       "      <td>...</td>\n",
       "      <td>50.0</td>\n",
       "      <td>617</td>\n",
       "      <td>100</td>\n",
       "      <td>60</td>\n",
       "      <td>145</td>\n",
       "      <td>bug</td>\n",
       "      <td>NaN</td>\n",
       "      <td>25.3</td>\n",
       "      <td>5</td>\n",
       "      <td>0</td>\n",
       "    </tr>\n",
       "    <tr>\n",
       "      <th>3</th>\n",
       "      <td>Aegislash</td>\n",
       "      <td>['Steel', 'Ghost']</td>\n",
       "      <td>['Stance Change']</td>\n",
       "      <td>Uber</td>\n",
       "      <td>60</td>\n",
       "      <td>50</td>\n",
       "      <td>150</td>\n",
       "      <td>50</td>\n",
       "      <td>150</td>\n",
       "      <td>60</td>\n",
       "      <td>...</td>\n",
       "      <td>50.0</td>\n",
       "      <td>681</td>\n",
       "      <td>150</td>\n",
       "      <td>50</td>\n",
       "      <td>60</td>\n",
       "      <td>steel</td>\n",
       "      <td>ghost</td>\n",
       "      <td>53.0</td>\n",
       "      <td>6</td>\n",
       "      <td>0</td>\n",
       "    </tr>\n",
       "    <tr>\n",
       "      <th>4</th>\n",
       "      <td>Aerodactyl</td>\n",
       "      <td>['Rock', 'Flying']</td>\n",
       "      <td>['Pressure', 'Rock Head', 'Unnerve']</td>\n",
       "      <td>RU</td>\n",
       "      <td>80</td>\n",
       "      <td>105</td>\n",
       "      <td>65</td>\n",
       "      <td>60</td>\n",
       "      <td>75</td>\n",
       "      <td>130</td>\n",
       "      <td>...</td>\n",
       "      <td>88.1</td>\n",
       "      <td>142</td>\n",
       "      <td>70</td>\n",
       "      <td>95</td>\n",
       "      <td>150</td>\n",
       "      <td>rock</td>\n",
       "      <td>flying</td>\n",
       "      <td>59.0</td>\n",
       "      <td>1</td>\n",
       "      <td>0</td>\n",
       "    </tr>\n",
       "  </tbody>\n",
       "</table>\n",
       "<p>5 rows × 55 columns</p>\n",
       "</div>"
      ],
      "text/plain": [
       "         name               types                               abilities_x  \\\n",
       "0   Abomasnow    ['Grass', 'Ice']            ['Snow Warning', 'Soundproof']   \n",
       "1       Absol            ['Dark']   ['Justified', 'Pressure', 'Super Luck']   \n",
       "2    Accelgor             ['Bug']  ['Hydration', 'Sticky Hold', 'Unburden']   \n",
       "3   Aegislash  ['Steel', 'Ghost']                         ['Stance Change']   \n",
       "4  Aerodactyl  ['Rock', 'Flying']      ['Pressure', 'Rock Head', 'Unnerve']   \n",
       "\n",
       "   tier  hp_x  atk  def  spa  spd  spe  ... percentage_male pokedex_number  \\\n",
       "0    PU    90   92   75   92   85   60  ...            50.0            460   \n",
       "1    PU    65  130   60   75   60   75  ...            50.0            359   \n",
       "2    NU    80   70   40  100   60  145  ...            50.0            617   \n",
       "3  Uber    60   50  150   50  150   60  ...            50.0            681   \n",
       "4    RU    80  105   65   60   75  130  ...            88.1            142   \n",
       "\n",
       "   sp_attack  sp_defense  speed  type1   type2  weight_kg  generation  \\\n",
       "0        132         105     30  grass     ice      135.5           4   \n",
       "1        115          60    115   dark     NaN       47.0           3   \n",
       "2        100          60    145    bug     NaN       25.3           5   \n",
       "3        150          50     60  steel   ghost       53.0           6   \n",
       "4         70          95    150   rock  flying       59.0           1   \n",
       "\n",
       "   is_legendary  \n",
       "0             0  \n",
       "1             0  \n",
       "2             0  \n",
       "3             0  \n",
       "4             0  \n",
       "\n",
       "[5 rows x 55 columns]"
      ]
     },
     "execution_count": 5,
     "metadata": {},
     "output_type": "execute_result"
    }
   ],
   "source": [
    "final_df = pd.merge(df, pdf, on='name')\n",
    "final_df.head()"
   ]
  },
  {
   "cell_type": "markdown",
   "id": "cd7498de",
   "metadata": {},
   "source": [
    "Nous obtenons donc le dataset **final_df**, jeu de données qui contient les caracteristiques principales de chaque Pokémon disponible, ainsi que leur tier. Grâce à ce dataset, nous allons pouvoir répondre à notre problématique, et déterminer **comment les tiers stratégiques sont définis.**\n",
    "\n",
    "Tout d'abord, nous allons analyser le pourcentage de Pokémon présent dans chaque tier."
   ]
  },
  {
   "cell_type": "code",
   "execution_count": 6,
   "id": "9279904e",
   "metadata": {},
   "outputs": [
    {
     "data": {
      "image/png": "[encoded data removed]",
      "text/plain": [
       "<Figure size 1080x1080 with 1 Axes>"
      ]
     },
     "metadata": {},
     "output_type": "display_data"
    }
   ],
   "source": [
    "fig, ax = plt.subplots(figsize=(15, 15))\n",
    "c = sns.color_palette('muted')\n",
    "c = [c[5], c[1], c[3], c[4], c[2], c[0]]\n",
    "\n",
    "ax = df.tier.value_counts().plot(kind='pie', autopct='%1.1f%%', colors=c, title='Pourcentage de Pokemon par tier')"
   ]
  },
  {
   "cell_type": "markdown",
   "id": "b5b33fd1",
   "metadata": {
    "scrolled": false
   },
   "source": [
    "Après avoir analysé le pourcentage de pokémons présent dans chaque tier, nous pouvons pour chaque tier avoir une moyenne du **bst** des pokémons, qui correspond au total de leurs statistiques. Comme ce graphique le démontre, on peut facilement observer que plus on s'éloigne des tiers élevés, plus la moyenne de statistiques baisse."
   ]
  },
  {
   "cell_type": "code",
   "execution_count": 23,
   "id": "7866c6ad",
   "metadata": {},
   "outputs": [
    {
     "data": {
      "text/plain": [
       "count     77.000000\n",
       "mean     565.896104\n",
       "std       68.916155\n",
       "min      420.000000\n",
       "25%      508.000000\n",
       "50%      570.000000\n",
       "75%      600.000000\n",
       "max      700.000000\n",
       "Name: bst, dtype: float64"
      ]
     },
     "execution_count": 23,
     "metadata": {},
     "output_type": "execute_result"
    }
   ],
   "source": [
    "df.bst[df['tier'] == \"OU\"].describe()"
   ]
  },
  {
   "cell_type": "code",
   "execution_count": 7,
   "id": "650ab049",
   "metadata": {},
   "outputs": [
    {
     "data": {
      "text/plain": [
       "[Text(0.5, 0, 'Tier'),\n",
       " Text(0, 0.5, 'Moyenne des statistiques'),\n",
       " Text(0.5, 1.0, 'Moyenne des statistiques selon le tier')]"
      ]
     },
     "execution_count": 7,
     "metadata": {},
     "output_type": "execute_result"
    },
    {
     "data": {
      "image/png": "[encoded data removed]",
      "text/plain": [
       "<Figure size 1080x576 with 1 Axes>"
      ]
     },
     "metadata": {
      "needs_background": "light"
     },
     "output_type": "display_data"
    }
   ],
   "source": [
    "ax = plt.subplots(figsize=(15,8))\n",
    "g2 = sns.boxplot(data=df, x='tier', y='bst', order=tiers, palette=\"muted\", ax=ax[1])\n",
    "ax[1].set(xlabel='Tier', ylabel='Moyenne des statistiques', title='Moyenne des statistiques selon le tier')"
   ]
  },
  {
   "cell_type": "markdown",
   "id": "ded409c8",
   "metadata": {},
   "source": [
    "On peut aussi observer sur le tier **PU** de nombreuses valeurs aberrantes, correspondant à des pokémons ayant de très bonnes statistiques, mais un point faible rendant leur montée dans le classement impossible."
   ]
  },
  {
   "cell_type": "code",
   "execution_count": 25,
   "id": "68250a87",
   "metadata": {},
   "outputs": [
    {
     "data": {
      "text/plain": [
       "count    154.000000\n",
       "mean     460.259740\n",
       "std       28.659781\n",
       "min      405.000000\n",
       "25%      440.000000\n",
       "50%      466.000000\n",
       "75%      485.000000\n",
       "max      498.000000\n",
       "Name: bst, dtype: float64"
      ]
     },
     "execution_count": 25,
     "metadata": {},
     "output_type": "execute_result"
    }
   ],
   "source": [
    "df.bst[(df['tier'] == \"PU\") & (df['bst'] > 400) & (df['bst']<500)].describe()"
   ]
  },
  {
   "cell_type": "markdown",
   "id": "784b2ee0",
   "metadata": {},
   "source": [
    "Pour la suite de cette analyse, nous allons observer pour chaque tier la moyenne des capacités qu'un pokemon peut apprendre. En effet, un grand nombre de capacités permettrait de rendre un pokémon beaucoup plus intéressant, du fait qu'il soit moins prévisible d'évaluer ce qu'il peut utiliser lors d'un combat stratégique."
   ]
  },
  {
   "cell_type": "code",
   "execution_count": 26,
   "id": "ad313bd6",
   "metadata": {},
   "outputs": [
    {
     "data": {
      "text/plain": [
       "[Text(0.5, 0, 'Tier'),\n",
       " Text(0, 0.5, 'Moyenne des capacités'),\n",
       " Text(0.5, 1.0, 'Moyenne des capacités selon le tier')]"
      ]
     },
     "execution_count": 26,
     "metadata": {},
     "output_type": "execute_result"
    },
    {
     "data": {
      "image/png": "[encoded data removed]",
      "text/plain": [
       "<Figure size 1080x576 with 1 Axes>"
      ]
     },
     "metadata": {
      "needs_background": "light"
     },
     "output_type": "display_data"
    }
   ],
   "source": [
    "ax = plt.subplots(figsize=(15,8))\n",
    "g2 = sns.barplot(data=df, x='tier', y='moveset', order=tiers, palette=\"muted\", ax=ax[1])\n",
    "ax[1].set(xlabel='Tier', ylabel='Moyenne des capacités', title='Moyenne des capacités selon le tier')"
   ]
  },
  {
   "cell_type": "markdown",
   "id": "59d18a26",
   "metadata": {},
   "source": [
    "Comme on peut le constater, le nombre de capacités n'est pas un élément significatif permettant de définir le tier stratégique d'un pokémon. Pour tous les tiers, les moyennes sont assez égales et les écart-types sont très faibles. \n",
    "\n"
   ]
  },
  {
   "cell_type": "markdown",
   "id": "161d695a",
   "metadata": {},
   "source": [
    "Nous allons maintenant analyser une autre caractérisque des pokémons : le fait qu'un pokémon soit légendaire ou non. En effet, pour la majorité des pokémons, être légendaire implique d'avoir une base de statistique plus élevée que la moyenne."
   ]
  },
  {
   "cell_type": "code",
   "execution_count": 40,
   "id": "3fc3f492",
   "metadata": {},
   "outputs": [
    {
     "data": {
      "text/plain": [
       "<AxesSubplot:xlabel='is_legendary', ylabel='bst'>"
      ]
     },
     "execution_count": 40,
     "metadata": {},
     "output_type": "execute_result"
    },
    {
     "data": {
      "image/png": "[encoded data removed]",
      "text/plain": [
       "<Figure size 1080x360 with 1 Axes>"
      ]
     },
     "metadata": {
      "needs_background": "light"
     },
     "output_type": "display_data"
    }
   ],
   "source": [
    "plt.subplots(figsize=(15,5))\n",
    "sns.boxplot(data=final_df, y=\"bst\", x=\"is_legendary\")"
   ]
  },
  {
   "cell_type": "markdown",
   "id": "a877899d",
   "metadata": {},
   "source": [
    "Grâce à ce graphique, on peut effectivement confirmer que les pokémons légendaires ont une moyenne de statistiques bien plus élevée que les pokémons \"normaux\". On pourrait donc conclure de façon pûrement théorique que les pokémons légendaires sont forcément dans des tiers élevés, mais nous allons utiliser un nouveau graphique pour prouver cela."
   ]
  },
  {
   "cell_type": "code",
   "execution_count": 41,
   "id": "0b9516b9",
   "metadata": {
    "scrolled": false
   },
   "outputs": [
    {
     "data": {
      "image/png": "[encoded data removed]",
      "text/plain": [
       "<Figure size 1080x576 with 1 Axes>"
      ]
     },
     "metadata": {
      "needs_background": "light"
     },
     "output_type": "display_data"
    }
   ],
   "source": [
    "fig = plt.subplots(figsize=(15,8))\n",
    "df_leg = final_df[final_df[\"is_legendary\"] == 1]\n",
    "fig = sns.countplot(data=df_leg, x=\"is_legendary\", hue=\"tier\", hue_order=tiers)"
   ]
  },
  {
   "cell_type": "markdown",
   "id": "af1afa80",
   "metadata": {},
   "source": [
    "Comme évoquer sur le graphique précédent, on retrouve effectivement dans ce graphique les pokémons légendaires étant principalement dans les tiers les plus élevés. Ce graphique nous permettrait donc d'accentuer le fait qu'avoir une base de statistique élevée permet à un pokémon d'être dans les tiers les plus hauts (sans prendre en compte les éventuelles exceptions provoquées par un talent propre au pokémon (aptitude innée au pokémon et pouvant le rendre extrêmement fort comme extrêmement mauvais, mais il serait trop long de démontrer ce point dans cette analyse de données))"
   ]
  },
  {
   "cell_type": "markdown",
   "id": "324e4160",
   "metadata": {},
   "source": [
    "En conclusion, cette analyse de données a permis de démontrer que plusieurs critères peuvent permettre à un pokémon d'être haut placé dans les tiers stratégiques. Tout d'abord, avoir une bonne base de statistiques serait un élément significatif dans le choix du tier d'un pokémon, les pokémons légendaires étant un bon exemple de par leur moyenne de statistiques très élevée et leurs places majoritaires dans les tiers élevés. Cependant, d'autres aspects sont moins significatifs, comme le nombre de capacités d'un pokémon, qui ne varie pas vraiment entre les pokémons de différents tiers."
   ]
  }
 ],
 "metadata": {
  "gist": {
   "data": {
    "description": "Documents/Python/Analyse de données/Projet/Projet.ipynb",
    "public": true
   },
   "id": ""
  },
  "kernelspec": {
   "display_name": "Python 3 (ipykernel)",
   "language": "python",
   "name": "python3"
  },
  "language_info": {
   "codemirror_mode": {
    "name": "ipython",
    "version": 3
   },
   "file_extension": ".py",
   "mimetype": "text/x-python",
   "name": "python",
   "nbconvert_exporter": "python",
   "pygments_lexer": "ipython3",
   "version": "3.9.12"
  },
  "latex_envs": {
   "LaTeX_envs_menu_present": true,
   "autoclose": false,
   "autocomplete": true,
   "bibliofile": "biblio.bib",
   "cite_by": "apalike",
   "current_citInitial": 1,
   "eqLabelWithNumbers": true,
   "eqNumInitial": 1,
   "hotkeys": {
    "equation": "Ctrl-E",
    "itemize": "Ctrl-I"
   },
   "labels_anchors": false,
   "latex_user_defs": false,
   "report_style_numbering": false,
   "user_envs_cfg": false
  },
  "varInspector": {
   "cols": {
    "lenName": 16,
    "lenType": 16,
    "lenVar": 40
   },
   "kernels_config": {
    "python": {
     "delete_cmd_postfix": "",
     "delete_cmd_prefix": "del ",
     "library": "var_list.py",
     "varRefreshCmd": "print(var_dic_list())"
    },
    "r": {
     "delete_cmd_postfix": ") ",
     "delete_cmd_prefix": "rm(",
     "library": "var_list.r",
     "varRefreshCmd": "cat(var_dic_list()) "
    }
   },
   "types_to_exclude": [
    "module",
    "function",
    "builtin_function_or_method",
    "instance",
    "_Feature"
   ],
   "window_display": false
  }
 },
 "nbformat": 4,
 "nbformat_minor": 5
}
