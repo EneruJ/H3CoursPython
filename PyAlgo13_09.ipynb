{
  "nbformat": 4,
  "nbformat_minor": 0,
  "metadata": {
    "colab": {
      "provenance": [],
      "authorship_tag": "ABX9TyOZybUm+foVkxvdVphIHId4",
      "include_colab_link": true
    },
    "kernelspec": {
      "name": "python3",
      "display_name": "Python 3"
    },
    "language_info": {
      "name": "python"
    }
  },
  "cells": [
    {
      "cell_type": "markdown",
      "metadata": {
        "id": "view-in-github",
        "colab_type": "text"
      },
      "source": [
        "<a href=\"https://colab.research.google.com/github/EneruJ/H3CoursPython/blob/Exercices/PyAlgo13_09.ipynb\" target=\"_parent\"><img src=\"https://colab.research.google.com/assets/colab-badge.svg\" alt=\"Open In Colab\"/></a>"
      ]
    },
    {
      "cell_type": "code",
      "execution_count": null,
      "metadata": {
        "colab": {
          "base_uri": "https://localhost:8080/"
        },
        "id": "3jQoeKmap8Sh",
        "outputId": "3c85f28d-e7b7-43b1-9ed1-d4892a036977"
      },
      "outputs": [
        {
          "output_type": "stream",
          "name": "stdout",
          "text": [
            "Veuillez saisir 2 nombres !\n",
            "Nombre n°1 : 5\n",
            "Nombre n°2 : -5\n",
            "Nombre négatif !\n"
          ]
        }
      ],
      "source": [
        "print(\"Veuillez saisir 2 nombres !\")\n",
        "x = int(input(\"Nombre n°1 : \"))\n",
        "y = int(input(\"Nombre n°2 : \"))\n",
        "\n",
        "\n",
        "if(x < 0 and y < 0) or (x > 0 and y > 0):\n",
        "  print(\"Nombre positif !\")\n",
        "else:\n",
        "  print(\"Nombre négatif !\")\n"
      ]
    },
    {
      "cell_type": "code",
      "source": [
        "print(\"Veuillez saisir le nombre de départ !\")\n",
        "depart = int(input(\"Nombre de départ : \"))\n",
        "resultat = 0\n",
        "\n",
        "for x in range(depart+1):\n",
        " resultat += x\n",
        "\n",
        "print(\"Le résultat est \"+str(resultat))"
      ],
      "metadata": {
        "colab": {
          "base_uri": "https://localhost:8080/"
        },
        "id": "Eymq7v7zqFOv",
        "outputId": "700ee8f6-3d71-4900-d671-eaa53ff74aab"
      },
      "execution_count": null,
      "outputs": [
        {
          "output_type": "stream",
          "name": "stdout",
          "text": [
            "Veuillez saisir le nombre de départ !\n",
            "Nombre de départ : 5\n",
            "Le résultat est 15\n"
          ]
        }
      ]
    },
    {
      "cell_type": "code",
      "source": [
        "tab = [1,2,3,4,5]\n",
        "resultat = 0\n",
        "\n",
        "for x in tab:\n",
        "  resultat += x\n",
        "\n",
        "print(\"Le résultat est \"+str(resultat))"
      ],
      "metadata": {
        "colab": {
          "base_uri": "https://localhost:8080/"
        },
        "id": "6AcgBVxuuU5j",
        "outputId": "4cb28f04-df1a-46bd-dd8d-aad6e958edab"
      },
      "execution_count": null,
      "outputs": [
        {
          "output_type": "stream",
          "name": "stdout",
          "text": [
            "Le résultat est 15\n"
          ]
        }
      ]
    },
    {
      "cell_type": "code",
      "source": [
        "tab1 = [1,2,3,4,5]\n",
        "tab2 = [1,2,3,4,5]\n",
        "resultat = 0\n",
        "\n",
        "for x in tab1:\n",
        "  for y in tab2:\n",
        "    resultat += (x*y)\n",
        "\n",
        "print(\"Le résultat est \"+str(resultat))"
      ],
      "metadata": {
        "colab": {
          "base_uri": "https://localhost:8080/"
        },
        "id": "5MfzOzRUvHgk",
        "outputId": "9e85fab9-1c8d-4bf8-bc79-4cbe02fbdf86"
      },
      "execution_count": null,
      "outputs": [
        {
          "output_type": "stream",
          "name": "stdout",
          "text": [
            "Le résultat est 225\n"
          ]
        }
      ]
    },
    {
      "cell_type": "code",
      "source": [
        "tab_string = input(\"Tableau de valeurs : \")\n",
        "tab = tab_string.split(\",\")\n",
        "print(tab)\n",
        "val_max = 0\n",
        "index_max = 0\n",
        "for index, value in enumerate(tab):\n",
        "  if(int(value) > int(val_max)):\n",
        "    val_max = value\n",
        "    index_max = index\n",
        "print(\"La valeur max est \"+str(val_max))\n",
        "print(\"L'index de la valeur max est \"+str(index_max))\n"
      ],
      "metadata": {
        "colab": {
          "base_uri": "https://localhost:8080/"
        },
        "id": "CX-BRag7vjy1",
        "outputId": "9b95f53b-ea5d-4b95-9483-5f363f7c3177"
      },
      "execution_count": null,
      "outputs": [
        {
          "output_type": "stream",
          "name": "stdout",
          "text": [
            "Tableau de valeurs : 1,5,7,8,2,12\n",
            "['1', '5', '7', '8', '2', '12']\n",
            "La valeur max est 12\n",
            "L'index de la valeur max est 5\n"
          ]
        }
      ]
    },
    {
      "cell_type": "code",
      "source": [
        "tab_string = input(\"Tableau de notes : \")\n",
        "tab = tab_string.split(\",\")\n",
        "moyenne = 0\n",
        "nb_val_supp = 0\n",
        "\n",
        "for x in tab:\n",
        "  moyenne += int(x)\n",
        "\n",
        "moyenne = moyenne / len(tab)\n",
        "\n",
        "for x in tab:\n",
        " if(int(x)>moyenne):\n",
        "   nb_val_supp+= 1\n",
        "\n",
        "print(\"La moyenne est de \"+str(moyenne))\n",
        "print(\"Le nombre de personnes au dessus de la moyenne est de \"+str(nb_val_supp))"
      ],
      "metadata": {
        "colab": {
          "base_uri": "https://localhost:8080/"
        },
        "id": "flXiggmbyUPx",
        "outputId": "560de907-34ce-4c4b-9f77-3b90c02dfe48"
      },
      "execution_count": null,
      "outputs": [
        {
          "output_type": "stream",
          "name": "stdout",
          "text": [
            "Tableau de notes : 2,4,6,8,10\n",
            "La moyenne est de 6.0\n",
            "Le nombre de personnes au dessus de la moyenne est de 2\n"
          ]
        }
      ]
    },
    {
      "cell_type": "code",
      "source": [
        "import numpy as np\n",
        "\n",
        "v1 = np.array([[1,2,3],[4,1,2]])\n",
        "v2 = np.array([[3,4,7],[2,4,3],[2,1,2]])\n",
        "\n",
        "v_final = np.matmul(v1,v2)\n",
        "print(v_final)\n"
      ],
      "metadata": {
        "colab": {
          "base_uri": "https://localhost:8080/"
        },
        "id": "ybd9Fv9704uB",
        "outputId": "ca67e712-4cbf-4db3-e418-64530a2d690c"
      },
      "execution_count": null,
      "outputs": [
        {
          "output_type": "stream",
          "name": "stdout",
          "text": [
            "[[13 15 19]\n",
            " [18 22 35]]\n"
          ]
        }
      ]
    },
    {
      "cell_type": "code",
      "source": [
        "tab_sort_croissant = [15,4,8,6,8,1,9,3]\n",
        "tab_sort_decroissant = [15,4,8,6,8,1,9,3]\n",
        "\n",
        "tab_sort_croissant.sort()\n",
        "tab_sort_decroissant.sort(reverse=True)\n",
        "\n",
        "print(tab_sort_croissant)\n",
        "print(tab_sort_decroissant)\n",
        "\n",
        "\n"
      ],
      "metadata": {
        "colab": {
          "base_uri": "https://localhost:8080/"
        },
        "id": "5j_N5u8b5cwx",
        "outputId": "4182f47a-d5eb-477d-efc9-3730b5450afa"
      },
      "execution_count": null,
      "outputs": [
        {
          "output_type": "stream",
          "name": "stdout",
          "text": [
            "[1, 3, 4, 6, 8, 8, 9, 15]\n",
            "[15, 9, 8, 8, 6, 4, 3, 1]\n"
          ]
        }
      ]
    },
    {
      "cell_type": "code",
      "source": [
        "print(\"Veuillez saisir le nombre de départ !\")\n",
        "depart = int(input(\"Nombre de départ : \"))\n",
        "factorielle = 1\n",
        "\n",
        "for x in range(1, depart+1):\n",
        "  factorielle = factorielle * x\n",
        "\n",
        "print(\"La factorielle de\",depart,\"est\",factorielle)"
      ],
      "metadata": {
        "colab": {
          "base_uri": "https://localhost:8080/"
        },
        "id": "vudGkGVL7H-H",
        "outputId": "0b168f6c-aa79-4c09-d878-481626ae65fb"
      },
      "execution_count": null,
      "outputs": [
        {
          "output_type": "stream",
          "name": "stdout",
          "text": [
            "Veuillez saisir le nombre de départ !\n",
            "Nombre de départ : 4\n",
            "La factorielle de 4 est 24\n"
          ]
        }
      ]
    },
    {
      "cell_type": "code",
      "source": [
        "import numpy as np\n",
        "\n",
        "matriceA = np.array([[1,2,0],[4,3,-1]])\n",
        "\n",
        "matriceB = np.array([[3,4,5],[1,2,3]])\n",
        "\n",
        "matriceC = matriceA * matriceB\n",
        "\n",
        "print(\"Matrice A\\n\",matriceA)\n",
        "print(\"Matrice B\\n\",matriceB)\n",
        "print(\"Matrice C\\n\",matriceC)"
      ],
      "metadata": {
        "colab": {
          "base_uri": "https://localhost:8080/"
        },
        "id": "75YLegZ28QO1",
        "outputId": "486dbc6b-420c-4154-a728-8f9591a9f3ff"
      },
      "execution_count": null,
      "outputs": [
        {
          "output_type": "stream",
          "name": "stdout",
          "text": [
            "Matrice A\n",
            " [[ 1  2  0]\n",
            " [ 4  3 -1]]\n",
            "Matrice B\n",
            " [[3 4 5]\n",
            " [1 2 3]]\n",
            "Matrice C\n",
            " [[ 3  8  0]\n",
            " [ 4  6 -3]]\n"
          ]
        }
      ]
    },
    {
      "cell_type": "code",
      "source": [
        "def FIBO(n):\n",
        "    if n > 1:\n",
        "        return FIBO(n-1) + FIBO(n-2)\n",
        "    return n\n",
        "for x in range(10):\n",
        "    print(FIBO(x))"
      ],
      "metadata": {
        "colab": {
          "base_uri": "https://localhost:8080/"
        },
        "id": "uuSAxwOXE3O0",
        "outputId": "5cece7ea-4e45-4a2f-a89e-49ad7f90a370"
      },
      "execution_count": null,
      "outputs": [
        {
          "output_type": "stream",
          "name": "stdout",
          "text": [
            "0\n",
            "1\n",
            "1\n",
            "2\n",
            "3\n",
            "5\n",
            "8\n",
            "13\n",
            "21\n",
            "34\n"
          ]
        }
      ]
    },
    {
      "cell_type": "code",
      "source": [
        "reel = 2\n",
        "resultat_suite = 0\n",
        "i = 0\n",
        "while (resultat_suite > reel) == False:\n",
        "  i = i + 1\n",
        "  resultat_suite += 1/i\n",
        "  print(\"N :\",i,\"\\nTotal de la suite :\",resultat_suite)\n",
        "  if(resultat_suite > reel):\n",
        "    print(\"Plus petit entier permettant de dépasser le réel\",reel,\":\", i)\n",
        "  \n"
      ],
      "metadata": {
        "colab": {
          "base_uri": "https://localhost:8080/"
        },
        "id": "ToecMjWuHZhD",
        "outputId": "b4d49303-963b-435d-e497-abb1ded3df40"
      },
      "execution_count": 17,
      "outputs": [
        {
          "output_type": "stream",
          "name": "stdout",
          "text": [
            "N : 1 \n",
            "Total de la suite : 1.0\n",
            "N : 2 \n",
            "Total de la suite : 1.5\n",
            "N : 3 \n",
            "Total de la suite : 1.8333333333333333\n",
            "N : 4 \n",
            "Total de la suite : 2.083333333333333\n",
            "Plus petit entier permettant de dépasser le réel 2 : 4\n"
          ]
        }
      ]
    }
  ]
}