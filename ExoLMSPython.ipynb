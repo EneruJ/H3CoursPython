{
  "nbformat": 4,
  "nbformat_minor": 0,
  "metadata": {
    "colab": {
      "provenance": [],
      "authorship_tag": "ABX9TyPeUyZ+wjNlv7nnb8c9+5Rl",
      "include_colab_link": true
    },
    "kernelspec": {
      "name": "python3",
      "display_name": "Python 3"
    },
    "language_info": {
      "name": "python"
    }
  },
  "cells": [
    {
      "cell_type": "markdown",
      "metadata": {
        "id": "view-in-github",
        "colab_type": "text"
      },
      "source": [
        "<a href=\"https://colab.research.google.com/github/EneruJ/H3CoursPython/blob/Exercices/ExoLMSPython.ipynb\" target=\"_parent\"><img src=\"https://colab.research.google.com/assets/colab-badge.svg\" alt=\"Open In Colab\"/></a>"
      ]
    },
    {
      "cell_type": "code",
      "execution_count": null,
      "metadata": {
        "colab": {
          "base_uri": "https://localhost:8080/"
        },
        "id": "02ojBsVdFkpn",
        "outputId": "e2389e08-d43c-4c8e-a7a6-db5f95b58b99"
      },
      "outputs": [
        {
          "output_type": "stream",
          "name": "stdout",
          "text": [
            "[1, 4, 9, 25, 36, 64, 81]\n"
          ]
        }
      ],
      "source": [
        "array = [1, 2, 3, 5, 6, 8, 9]\n",
        "narray = []\n",
        "  \n",
        "for x in array:\n",
        "  narray.append(x*x)\n",
        "\n",
        "print(narray)"
      ]
    },
    {
      "cell_type": "code",
      "source": [
        "bool = False\n",
        "\n",
        "while bool == False:\n",
        "  try:\n",
        "    value=int(input(\"Nombre svp \"))\n",
        "    print([x for x in range(value+1) if x%2==0])\n",
        "    break\n",
        "  except ValueError:\n",
        "    print(\"Veuillez entrer un nombre svp !\")\n",
        "  \n",
        "\n",
        "\n"
      ],
      "metadata": {
        "colab": {
          "base_uri": "https://localhost:8080/"
        },
        "id": "LgpHeVH7J9CP",
        "outputId": "1daf01d5-6148-4b07-dfaf-8c59ccf51093"
      },
      "execution_count": null,
      "outputs": [
        {
          "output_type": "stream",
          "name": "stdout",
          "text": [
            "Nombre svp 8\n",
            "[0, 2, 4, 6, 8]\n"
          ]
        }
      ]
    },
    {
      "cell_type": "code",
      "source": [
        "string = \"abcdcba\"\n",
        "string_reverse = string[::-1]\n",
        "\n",
        "if(string == string_reverse):\n",
        "  print(\"Ce mot est un palindrome\")\n",
        "else:\n",
        "  print(\"Ce mot n'est pas un palindrome\")"
      ],
      "metadata": {
        "colab": {
          "base_uri": "https://localhost:8080/"
        },
        "id": "1U457b-kSe8r",
        "outputId": "7da8e59d-7df2-43bc-9375-abca7a0272a2"
      },
      "execution_count": null,
      "outputs": [
        {
          "output_type": "stream",
          "name": "stdout",
          "text": [
            "Ce mot est un palindrome\n"
          ]
        }
      ]
    },
    {
      "cell_type": "code",
      "source": [
        "competition=[\n",
        "    [\"HTML\", \"C#\"],\n",
        "    [\"C#\", \"Python\"],\n",
        "    [\"Python\", \"HTML\"]\n",
        "]\n",
        "\n",
        "resultat=[0,0,1]\n",
        "\n",
        "def compet(competition, resultat):\n",
        "  \n",
        "\n",
        "\n"
      ],
      "metadata": {
        "id": "apPipGBUUXSQ"
      },
      "execution_count": null,
      "outputs": []
    }
  ]
}